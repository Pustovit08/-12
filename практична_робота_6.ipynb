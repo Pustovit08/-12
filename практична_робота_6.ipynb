{
  "nbformat": 4,
  "nbformat_minor": 0,
  "metadata": {
    "colab": {
      "provenance": [],
      "name": "практична робота 6",
      "include_colab_link": true
    },
    "kernelspec": {
      "name": "python3",
      "display_name": "Python 3"
    },
    "language_info": {
      "name": "python"
    }
  },
  "cells": [
    {
      "cell_type": "markdown",
      "metadata": {
        "id": "view-in-github",
        "colab_type": "text"
      },
      "source": [
        "<a href=\"https://colab.research.google.com/github/Pustovit08/-12/blob/main/%D0%BF%D1%80%D0%B0%D0%BA%D1%82%D0%B8%D1%87%D0%BD%D0%B0_%D1%80%D0%BE%D0%B1%D0%BE%D1%82%D0%B0_6.ipynb\" target=\"_parent\"><img src=\"https://colab.research.google.com/assets/colab-badge.svg\" alt=\"Open In Colab\"/></a>"
      ]
    },
    {
      "cell_type": "code",
      "source": [
        "#1\n",
        "teams = [\n",
        "    {'name': 'Team A', 'перемоги': 10, 'поразки': 2, 'нічії': 3},\n",
        "    {'name': 'Team B', 'перемоги': 15, 'поразки': 1, 'нічії': 1},\n",
        "    {'name': 'Team C', 'перемоги': 7, 'поразки': 5, 'нічії': 2}\n",
        "]\n",
        "\n",
        "max_wins_team = max(teams, key=lambda t: t['перемоги'])\n",
        "print(max_wins_team['name'])\n"
      ],
      "metadata": {
        "colab": {
          "base_uri": "https://localhost:8080/"
        },
        "id": "CyaVCZEn1fZL",
        "outputId": "bd65f2cb-f4a7-40ce-f73b-41fc6ddb0a97"
      },
      "execution_count": null,
      "outputs": [
        {
          "output_type": "stream",
          "name": "stdout",
          "text": [
            "Team B\n"
          ]
        }
      ]
    },
    {
      "cell_type": "code",
      "source": [
        "class Team:\n",
        "    name = \"\"\n",
        "    wins = 0\n",
        "    losses = 0\n",
        "    draws = 0\n",
        "\n",
        "teams = [\n",
        "    Team(), Team(), Team()\n",
        "]\n",
        "\n",
        "teams[0].name = 'Team A'; teams[0].wins = 10;  teams[0].losses = 2; teams[0].draws = 3\n",
        "teams[1].name = 'Team B'; teams[1].wins = 15; teams[1].losses = 1; teams[1].draws = 1\n",
        "teams[2].name = 'Team C'; teams[2].wins = 7; teams[2].losses = 5; teams[2].draws = 2\n",
        "\n",
        "max_team = max(teams, key=lambda t: t.wins)\n",
        "print(max_team.name)\n"
      ],
      "metadata": {
        "colab": {
          "base_uri": "https://localhost:8080/"
        },
        "id": "mImRHKTA1lG2",
        "outputId": "a8a1e19b-f106-4c17-85c7-7df760594781"
      },
      "execution_count": null,
      "outputs": [
        {
          "output_type": "stream",
          "name": "stdout",
          "text": [
            "Team B\n"
          ]
        }
      ]
    },
    {
      "cell_type": "code",
      "source": [
        "#2\n",
        "students = [\n",
        "    {'name': 'Кисіль Яна Юріївна', 'course': 1, 'group': '1СОМ', 'birth_year': 2007},\n",
        "    {'name': 'Сичук Ангеліна Олександрівна', 'course': 1, 'group': '1СОМ', 'birth_year': 2006},\n",
        "    {'name': 'Пустовіт Анастасія Дмитрівна ', 'course': 1, 'group': '1СОМ', 'birth_year': 2007},\n",
        "    {'name': 'Слободянюк Вікторія Вікторівна', 'course': 1, 'group': '1СОМ', 'birth_year': 2007}\n",
        "\n",
        "]\n",
        "\n",
        "youngest = max(students, key=lambda s: s['birth_year'])\n",
        "print(youngest['name'])\n"
      ],
      "metadata": {
        "colab": {
          "base_uri": "https://localhost:8080/"
        },
        "id": "4Kn93LnG10Aj",
        "outputId": "b6373f76-3b60-4f91-a016-6f113b63255f"
      },
      "execution_count": null,
      "outputs": [
        {
          "output_type": "stream",
          "name": "stdout",
          "text": [
            "Кисіль Яна Юріївна\n"
          ]
        }
      ]
    },
    {
      "cell_type": "code",
      "source": [
        "class Student:\n",
        "    name = \"\"\n",
        "    course = 0\n",
        "    group = \"\"\n",
        "    birth_year = 0\n",
        "\n",
        "students = [Student(), Student(), Student(), Student()]\n",
        "\n",
        "students[0].name = 'Кисіль Яна Юріївна'; students[0].birth_year = 2007\n",
        "students[1].name = 'Сичук Ангеліна Олександрівна'; students[1].birth_year = 2006\n",
        "students[2].name = 'Пустовіт Анастасія Дмитрівна'; students[2].birth_year = 2007\n",
        "students[3].name = 'Слободянюк Вікторія Вікторівна'; students[3].birth_year = 2007\n",
        "\n",
        "youngest = max(students, key=lambda s: s.birth_year)\n",
        "print(youngest.name)\n"
      ],
      "metadata": {
        "colab": {
          "base_uri": "https://localhost:8080/"
        },
        "id": "EXmAPDb8_rfB",
        "outputId": "a72a6002-6d7a-445e-de4a-f764b4a249df"
      },
      "execution_count": null,
      "outputs": [
        {
          "output_type": "stream",
          "name": "stdout",
          "text": [
            "Кисіль Яна Юріївна\n"
          ]
        }
      ]
    }
  ]
}